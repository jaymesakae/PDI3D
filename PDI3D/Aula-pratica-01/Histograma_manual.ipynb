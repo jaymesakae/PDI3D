{
 "cells": [
  {
   "cell_type": "markdown",
   "id": "a7c0c37d",
   "metadata": {},
   "source": [
    "# Objetivo\n",
    "\n",
    "O objetivo deste notebook é de calcular e demonstrar o grafico de histograma com valores pré-definidos"
   ]
  },
  {
   "cell_type": "code",
   "execution_count": 1,
   "id": "4589462c",
   "metadata": {},
   "outputs": [],
   "source": [
    "import numpy as np\n",
    "import matplotlib.pyplot as plt"
   ]
  },
  {
   "cell_type": "code",
   "execution_count": 24,
   "id": "6d212f16",
   "metadata": {},
   "outputs": [],
   "source": [
    "def histogram(D, x):\n",
    "    \"\"\"\n",
    "    This function calculate a histogram function\n",
    "    D: Data array\n",
    "    X: Length of box\n",
    "    \"\"\"\n",
    "    aux = np.zeros(len(D), dtype = int)\n",
    "    for i in range(len(D)):\n",
    "        aux[i] = int((D[i] - min(D))/x)\n",
    "        \n",
    "        print(aux)\n",
    "    saida = np.zeros(1)\n",
    "    for i in range(len(aux)):\n",
    "        \n",
    "    #print(saida)"
   ]
  },
  {
   "cell_type": "code",
   "execution_count": 38,
   "id": "51b43e39",
   "metadata": {},
   "outputs": [],
   "source": [
    "def hist_aula(data, numbins):\n",
    "    binsize = (max(data) - min(data))/numbins\n",
    "    hist = np.zeros(numbins, dtype = int)\n",
    "    min_value = min(data)\n",
    "    \n",
    "    for value in data:\n",
    "        bin_index = int((value - min_value)/binsize)\n",
    "        if bin_index >= len(hist):\n",
    "            bin_index -= 1\n",
    "        hist[bin_index] += 1\n",
    "    return hist\n",
    "        "
   ]
  },
  {
   "cell_type": "code",
   "execution_count": 39,
   "id": "98023f6d",
   "metadata": {},
   "outputs": [
    {
     "name": "stdout",
     "output_type": "stream",
     "text": [
      "[5 3 2]\n"
     ]
    }
   ],
   "source": [
    "print(hist_aula([2, 4, 5, 1, 3, 7, 10, 1, 4, 2], 3))"
   ]
  },
  {
   "cell_type": "code",
   "execution_count": 25,
   "id": "8b0603b4",
   "metadata": {},
   "outputs": [
    {
     "name": "stdout",
     "output_type": "stream",
     "text": [
      "[0 0 0 0 0 0]\n",
      "[0 0 0 0 0 0]\n",
      "[0 0 1 0 0 0]\n",
      "[0 0 1 1 0 0]\n",
      "[0 0 1 1 2 0]\n",
      "[0 0 1 1 2 2]\n"
     ]
    }
   ],
   "source": [
    "histogram([1,2,3,4,5,6], 2)"
   ]
  },
  {
   "cell_type": "code",
   "execution_count": null,
   "id": "8f19f0a4",
   "metadata": {},
   "outputs": [],
   "source": []
  }
 ],
 "metadata": {
  "kernelspec": {
   "display_name": "Python 3 (ipykernel)",
   "language": "python",
   "name": "python3"
  },
  "language_info": {
   "codemirror_mode": {
    "name": "ipython",
    "version": 3
   },
   "file_extension": ".py",
   "mimetype": "text/x-python",
   "name": "python",
   "nbconvert_exporter": "python",
   "pygments_lexer": "ipython3",
   "version": "3.10.6"
  }
 },
 "nbformat": 4,
 "nbformat_minor": 5
}
