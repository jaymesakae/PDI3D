{
 "cells": [
  {
   "cell_type": "code",
   "execution_count": 2,
   "id": "63510295",
   "metadata": {},
   "outputs": [],
   "source": [
    "import tifffile\n",
    "from itkwidgets import view\n",
    "import numpy as np\n",
    "import matplotlib.pyplot as plt\n",
    "from ipywidgets import interact\n",
    "\n",
    "#importando vtk\n",
    "import vtk\n",
    "from vtk.util import numpy_support\n",
    "import matplotlib.cm as cm\n",
    "\n",
    "%matplotlib notebook\n",
    "%matplotlib inline"
   ]
  },
  {
   "cell_type": "code",
   "execution_count": 3,
   "id": "8e734fc8",
   "metadata": {},
   "outputs": [],
   "source": [
    "img = tifffile.imread('../Aula-pratica4/data/MRI/T01C01/T01C01_flair.tif')"
   ]
  },
  {
   "cell_type": "code",
   "execution_count": null,
   "id": "9f06a3d8",
   "metadata": {},
   "outputs": [],
   "source": []
  }
 ],
 "metadata": {
  "kernelspec": {
   "display_name": "Python 3 (ipykernel)",
   "language": "python",
   "name": "python3"
  },
  "language_info": {
   "codemirror_mode": {
    "name": "ipython",
    "version": 3
   },
   "file_extension": ".py",
   "mimetype": "text/x-python",
   "name": "python",
   "nbconvert_exporter": "python",
   "pygments_lexer": "ipython3",
   "version": "3.8.15"
  }
 },
 "nbformat": 4,
 "nbformat_minor": 5
}
