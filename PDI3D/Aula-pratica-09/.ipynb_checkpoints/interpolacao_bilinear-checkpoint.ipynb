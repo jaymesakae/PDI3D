{
 "cells": [
  {
   "cell_type": "code",
   "execution_count": 1,
   "id": "79e8ba1d",
   "metadata": {},
   "outputs": [
    {
     "name": "stdout",
     "output_type": "stream",
     "text": [
      "57.09999999999999\n"
     ]
    }
   ],
   "source": [
    "import matplotlib.pyplot as plt\n",
    "import numpy as np\n",
    "import tifffile as tif\n",
    "from itkwidgets import view\n",
    "\n",
    "def bilinear_interpol(img, point):\n",
    "    \n",
    "    row_int = int(point[0])\n",
    "    row_frac = point[0]-row_int\n",
    "    col_int = int(point[1])\n",
    "    col_frac = point[1] - col_int\n",
    "    \n",
    "    i00 = img[row_int, col_int]\n",
    "    i01 = img[row_int, col_int+1]\n",
    "    i10 = img[row_int+1, col_int]\n",
    "    i11 = img[row_int+1, col_int+1]\n",
    "\n",
    "    irc = ((1-row_frac)*(1-col_frac)*i00 + row_frac*(1-col_frac)*i10 +\n",
    "           (1-row_frac)*(col_frac*i01)+row_frac*col_frac*i11)\n",
    "    return irc\n",
    "\n",
    "img_test = np.array([[23, 45, 67, 26],\n",
    "                     [35, 56, 78, 89],\n",
    "                     [45, 12, 56, 78],\n",
    "                     [34, 67, 54, 56]])\n",
    "point = (0.7, 1.2)\n",
    "Irc = bilinear_interpol(img_test, point)\n",
    "print(Irc)"
   ]
  },
  {
   "cell_type": "markdown",
   "id": "4ac3ddab",
   "metadata": {},
   "source": [
    "O filtro interpolação bilinear é o tal que veremos nessa aula, esse tal filtro pode fazer a identificação de intensidade sobre os pixeis, a sua formula pode ser descrita como:\n",
    "\n",
    "O filtro interpolação bilinear serve tambem para expandir sua imagem de forma que fique com os metadados parecidos, no exemplo da imagem de vasos sanguineos em 3D importada mais abaixo, vemos que as estruturas dela n esta tão tubular quanto ela poderia ser, considerando que ela eh de vasos sanguineos, assim, aplicando o filtro bilinear, a transformamos de forma que ela fique mais arredondada, no caso dessa imagem neh. Em outras imagens, usar o filtro bilinear pode melhorar a qualidade da imagem, ou propriamente seus detalhes, mas antes veja o metadado da imagem para confirmar que valores ele precisa ser interpolado."
   ]
  },
  {
   "cell_type": "code",
   "execution_count": 2,
   "id": "354b39c4",
   "metadata": {},
   "outputs": [],
   "source": [
    "def trilinear_interpol(img, point):\n",
    "    plane_int = int(point[0])\n",
    "    row_int = int(point[1])\n",
    "    col_int = int(point[2])\n",
    "    \n",
    "    plane_frac = point[0] - plane_int\n",
    "    row_frac = point[1] - row_int\n",
    "    col_frac = point[2] - col_int\n",
    "    \n",
    "    vals = img[plane_int:plane_int+2, row_int:row_int+2, col_int:col_int+2]\n",
    "    \n",
    "    i000, i001, i010, i011, i100, i101, i110, i111 = vals.flatten()\n",
    "    \n",
    "    iprc = ((1-plane_frac)*(1-row_frac)*(1-col_frac)*i000+\n",
    "          (1-plane_frac)*(1-row_frac)*col_frac*i001+\n",
    "          (1-plane_frac)*row_frac*(1-col_frac)*i010+\n",
    "          (1-plane_frac)*row_frac*col_frac*i011+\n",
    "          plane_frac*(1-row_frac)*(1-col_frac)*i100+\n",
    "          plane_frac*(1-row_frac)*col_frac*i101+\n",
    "          plane_frac*row_frac*(1-col_frac)*i110+\n",
    "          plane_frac*row_frac*col_frac*i111\n",
    "          )\n",
    "    return iprc\n",
    "def make_isotropic_image(img, scales):\n",
    "    img_shape = np.array(img.shape)\n",
    "    factor = np.array(scales/np.min(scales))\n",
    "    new_shape = img.shape*factor\n",
    "    new_shape = np.round(new_shape).astype(int)\n",
    "\n",
    "    new_plane_pos = np.linspace(0, img_shape[0]-1, new_shape[0], endpoint = False)\n",
    "    new_row_pos = np.linspace(0, img_shape[1]-1, new_shape[1], endpoint = False)\n",
    "    new_col_pos = np.linspace(0, img_shape[2]-1, new_shape[2], endpoint = False)\n",
    "    img_interpol = np.zeros(new_shape, dtype=img.dtype)\n",
    "\n",
    "    for plane_idx, plane in enumerate(new_plane_pos):\n",
    "        for row_idx, row in enumerate(new_row_pos):\n",
    "            for col_idx, col in enumerate(new_col_pos):\n",
    "                point = (plane, row, col)\n",
    "                val = trilinear_interpol(img, point)\n",
    "                img_interpol[plane_idx, row_idx, col_idx] = int(val)\n",
    "\n",
    "    return img_interpol"
   ]
  },
  {
   "cell_type": "markdown",
   "id": "7e1449b0",
   "metadata": {},
   "source": [
    "No ultimo ponto da matrix de interpolação nao tem valor, assim, temos que atribuir um valor Falso no endpoint, então, nesse caso, ele coloca-rá o valor mais proximo do calculo, assim, ele n extrapola o valor da imagem."
   ]
  },
  {
   "cell_type": "code",
   "execution_count": 3,
   "id": "46e5bc6e",
   "metadata": {},
   "outputs": [
    {
     "data": {
      "application/vnd.jupyter.widget-view+json": {
       "model_id": "914626a0b8994e628f0e5693428719a1",
       "version_major": 2,
       "version_minor": 0
      },
      "text/plain": [
       "Viewer(geometries=[], gradient_opacity=0.22, point_sets=[], rendered_image=<itk.itkImagePython.itkImageUS3; pr…"
      ]
     },
     "metadata": {},
     "output_type": "display_data"
    }
   ],
   "source": [
    "img = tif.imread(\"../41-20X barrel-01.tif\")[:, 400:500, 600:700]\n",
    "\n",
    "view(img)\n",
    "#img_interpol = trilinear_interpol(img, )"
   ]
  },
  {
   "cell_type": "code",
   "execution_count": 4,
   "id": "4d2a9b7b",
   "metadata": {},
   "outputs": [
    {
     "name": "stdout",
     "output_type": "stream",
     "text": [
      "(32, 100, 100)\n",
      "(70, 100, 100)\n"
     ]
    },
    {
     "data": {
      "application/vnd.jupyter.widget-view+json": {
       "model_id": "7ca3b805c0054b9b982ec392226384eb",
       "version_major": 2,
       "version_minor": 0
      },
      "text/plain": [
       "Viewer(geometries=[], gradient_opacity=0.22, point_sets=[], rendered_image=<itk.itkImagePython.itkImageUS3; pr…"
      ]
     },
     "metadata": {},
     "output_type": "display_data"
    }
   ],
   "source": [
    "scales = 1, 0.454, 0.454\n",
    "img_interpol = make_isotropic_image(img, scales)\n",
    "print(img.shape)\n",
    "print(img_interpol.shape)\n",
    "view(img_interpol)"
   ]
  },
  {
   "cell_type": "markdown",
   "id": "9d420d9e",
   "metadata": {},
   "source": [
    "Para facilitar nossa vida, existe um modulo do scipy para fazer a interpolação, chamada zoom"
   ]
  },
  {
   "cell_type": "code",
   "execution_count": 6,
   "id": "b45a163b",
   "metadata": {},
   "outputs": [
    {
     "name": "stdout",
     "output_type": "stream",
     "text": [
      "(32, 100, 100)\n",
      "(70, 100, 100)\n"
     ]
    }
   ],
   "source": [
    "import scipy.ndimage as ndi\n",
    "\n",
    "scales = np.array([1, 0.454, 0.454])\n",
    "factor = scales/min(scales)\n",
    "\n",
    "img_interpol = ndi.zoom(img, factor)\n",
    "\n",
    "print(img.shape)\n",
    "print(img_interpol.shape)"
   ]
  },
  {
   "cell_type": "markdown",
   "id": "23685f10",
   "metadata": {},
   "source": [
    "Veremos em aulas posteriores como fazer integração de C para python, mas ja introduzindo, existe um modulo do python chamado ctypes, assim commnmo no exemplo"
   ]
  },
  {
   "cell_type": "code",
   "execution_count": 8,
   "id": "99b7690a",
   "metadata": {},
   "outputs": [],
   "source": [
    "import ctypes\n",
    "\n",
    "vals = np.array([[1, 2],\n",
    "                [3,4],\n",
    "                [5,6],\n",
    "                [7,8]])\n",
    "\n",
    "# acredito que veremos mesmo em outras aulas hahahahhahaha"
   ]
  },
  {
   "cell_type": "code",
   "execution_count": null,
   "id": "f584916e",
   "metadata": {},
   "outputs": [],
   "source": []
  }
 ],
 "metadata": {
  "kernelspec": {
   "display_name": "Python 3 (ipykernel)",
   "language": "python",
   "name": "python3"
  },
  "language_info": {
   "codemirror_mode": {
    "name": "ipython",
    "version": 3
   },
   "file_extension": ".py",
   "mimetype": "text/x-python",
   "name": "python",
   "nbconvert_exporter": "python",
   "pygments_lexer": "ipython3",
   "version": "3.8.15"
  }
 },
 "nbformat": 4,
 "nbformat_minor": 5
}
