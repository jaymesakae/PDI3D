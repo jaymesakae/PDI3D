{
 "cells": [
  {
   "cell_type": "code",
   "execution_count": 1,
   "id": "5de5ac72",
   "metadata": {},
   "outputs": [],
   "source": [
    "import numpy as np\n",
    "import matplotlib.pyplot as plt\n",
    "import itk\n",
    "from itkwidgets import view"
   ]
  },
  {
   "cell_type": "markdown",
   "id": "dfaeb68e",
   "metadata": {},
   "source": [
    "Nesta aula veremos algumas das funções de filtragem que vimos em PDI de forma que seja expandida para 3D.\n",
    "\n",
    "Serão os tópicos:\n",
    "* Função Gaussiana Generalizada (ou distribuição normal multivariada)\n",
    "\n",
    "        f(r vetor) = alfa*e^(-1/2 (r vetor - u vetor)^t * SIGMA^(-1)*(r vetor - u vetor))\n",
    "\n",
    "        r vetor: vetor representando um ponto (x,y)\n",
    "\n",
    "        u vetor: vetor da posição do pico\n",
    "\n",
    "        SIGMA: matriz de covariância"
   ]
  },
  {
   "cell_type": "markdown",
   "id": "5e95fd08",
   "metadata": {},
   "source": [
    "# Exemplo"
   ]
  },
  {
   "cell_type": "markdown",
   "id": "d9d13e6d",
   "metadata": {},
   "source": [
    "A covariancia pode ser calculada como\n",
    "\n",
    "con(x, y) = 1/N SUM, i=1 e ^N((xi- ux)*(yi - uY))"
   ]
  },
  {
   "cell_type": "code",
   "execution_count": 5,
   "id": "d33170ed",
   "metadata": {},
   "outputs": [
    {
     "data": {
      "text/plain": [
       "[<matplotlib.lines.Line2D at 0x7f296e85e880>]"
      ]
     },
     "execution_count": 5,
     "metadata": {},
     "output_type": "execute_result"
    },
    {
     "data": {
      "image/png": "[encoded data removed]",
      "text/plain": [
       "<Figure size 640x480 with 1 Axes>"
      ]
     },
     "metadata": {},
     "output_type": "display_data"
    }
   ],
   "source": [
    "data = np.loadtxt('dados.txt')\n",
    "\n",
    "plt.plot(data[:, 0], data[:, 1], 'o')"
   ]
  },
  {
   "cell_type": "code",
   "execution_count": 24,
   "id": "2cba0998",
   "metadata": {},
   "outputs": [
    {
     "name": "stdout",
     "output_type": "stream",
     "text": [
      "[ 5.1221 12.9931]\n",
      "[[2.60710459 2.80774449]\n",
      " [2.80774449 5.01084139]]\n"
     ]
    }
   ],
   "source": [
    "def covariance(x, y):\n",
    "    \n",
    "    u_x = np.mean(x)\n",
    "    u_y = np.mean(y)\n",
    "    cov = np.mean((x - u_x) * (y - u_y))\n",
    "    return cov\n",
    "\n",
    "averages = np.mean(data, axis = 0)\n",
    "cov_mat = np.zeros((2, 2))\n",
    "\n",
    "x = data[:, 0]\n",
    "y = data[:, 1]\n",
    "\n",
    "cov_mat[0, 0] = covariance(x, x)\n",
    "cov_mat[1, 1] = covariance(y, y)\n",
    "\n",
    "cov_mat[0, 1] = covariance(x, y)\n",
    "cov_mat[1, 0] = cov_mat[0, 1]\n",
    "\n",
    "print(averages)\n",
    "print(cov_mat)"
   ]
  },
  {
   "cell_type": "code",
   "execution_count": 25,
   "id": "4a2a9b10",
   "metadata": {},
   "outputs": [
    {
     "data": {
      "text/plain": [
       "[<matplotlib.lines.Line2D at 0x7f296da6b4c0>]"
      ]
     },
     "execution_count": 25,
     "metadata": {},
     "output_type": "execute_result"
    },
    {
     "data": {
      "image/png": "[encoded data removed]",
      "text/plain": [
       "<Figure size 640x480 with 1 Axes>"
      ]
     },
     "metadata": {},
     "output_type": "display_data"
    }
   ],
   "source": [
    "data_range = np.random.multivariate_normal(averages, cov_mat, size = 100)\n",
    "plt.plot(data_range[:, 0], data_range[:, 1], 'o')"
   ]
  },
  {
   "cell_type": "markdown",
   "id": "4cd0cc32",
   "metadata": {},
   "source": [
    "# Criação de uma função Gaussiana generalizada"
   ]
  },
  {
   "cell_type": "code",
   "execution_count": 43,
   "id": "952299a3",
   "metadata": {},
   "outputs": [],
   "source": [
    "def create_column_vector(arr):\n",
    "\n",
    "    if isinstance(arr, list) or isinstance(arr, tuple):\n",
    "        arr = np.array(arr)\n",
    "    if arr.ndim==1:\n",
    "        arr = arr[np.newaxis].T\n",
    "    elif arr.ndim == 2:\n",
    "        if arr.shape[0] == 1:\n",
    "            arr = arr.T\n",
    "    \n",
    "    return arr\n",
    "\n",
    "def gauss_3d(r, averages, covariance_mat, is_cov_invert = False):\n",
    "    \n",
    "    if is_cov_invert:\n",
    "        covariance_mat_inv = covariance_mat\n",
    "    else:\n",
    "        covariance_mat_inv = np.linalg.inv(covariance_mat)\n",
    "        \n",
    "    r = create_column_vector(r)\n",
    "    averages = create_column_vector(averages)\n",
    "    \n",
    "    r_diff = r - averages\n",
    "    \n",
    "    prod = np.dot(np.dot(r_diff.T, covariance_mat_inv), r_diff)\n",
    "    \n",
    "    return np.exp(-prod/2)    \n",
    "\n",
    "def get_gauss_coords(sigma, std_range, size):\n",
    "    \n",
    "    gauss_coords = np.linspace(0, sigma*std_range, size//2 + 1)\n",
    "    \n",
    "    gaus_coords_inv = -gauss_coords[1:][::-1]\n",
    "    \n",
    "    gauss_coords = np.concatenate((gaus_coords_inv,\n",
    "                                   gauss_coords)\n",
    "                                 )\n",
    "    return gauss_coords    \n",
    "\n",
    "def create_3d_gaussian(covariance_mat, std_ranges, img_shape):\n",
    "    variances = np.diag(covariance_mat) #extrai diagonal da matriz\n",
    "    \n",
    "    sigma = np.sqrt(variances)\n",
    "    \n",
    "    plane_coords = get_gauss_coords(sigma[0], std_ranges[0], img_shape[0])\n",
    "    row_coords = get_gauss_coords(sigma[1], std_ranges[1], img_shape[1])\n",
    "    col_coords = get_gauss_coords(sigma[2], std_ranges[2], img_shape[2])\n",
    "    \n",
    "    covariance_mat_inv = np.linalg.inv(covariance_mat)\n",
    "    averages = (0, 0, 0)\n",
    "    \n",
    "    gaussian = np.zeros(img_shape)\n",
    "    \n",
    "    for plane_idx, plane_coord in enumerate(plane_coords):\n",
    "        \n",
    "        for row_idx, row_coord in enumerate(row_coords):\n",
    "\n",
    "            for col_idx, col_coord in enumerate(col_coords):\n",
    "                r = [plane_coord, row_coord, col_coord]\n",
    "                g_val = gauss_3d(r, averages, covariance_mat_inv, is_cov_invert = True)\n",
    "                gaussian[plane_idx, row_idx, col_idx] = g_val\n",
    "    gaussian = gaussian/np.sum(gaussian)\n",
    "    \n",
    "    return gaussian"
   ]
  },
  {
   "cell_type": "code",
   "execution_count": 47,
   "id": "44d9489d",
   "metadata": {},
   "outputs": [
    {
     "data": {
      "text/plain": [
       "<matplotlib.image.AxesImage at 0x7f2960430250>"
      ]
     },
     "execution_count": 47,
     "metadata": {},
     "output_type": "execute_result"
    },
    {
     "data": {
      "image/png": "[encoded data removed]",
      "text/plain": [
       "<Figure size 640x480 with 1 Axes>"
      ]
     },
     "metadata": {},
     "output_type": "display_data"
    }
   ],
   "source": [
    "sigma = 3\n",
    "cov = 8\n",
    "covariance_mat = np.array([[sigma**2, 0, 0],\n",
    "                           [0, sigma**2, cov],\n",
    "                           [0, cov, sigma**2]])\n",
    "\n",
    "std_ranges = (3, 3, 3)\n",
    "img_shape = (23, 23, 23)\n",
    "g = create_3d_gaussian(covariance_mat, std_ranges, img_shape)\n",
    "\n",
    "plt.imshow(g[1, :, :], 'gray')"
   ]
  },
  {
   "cell_type": "code",
   "execution_count": 49,
   "id": "e6434493",
   "metadata": {},
   "outputs": [
    {
     "data": {
      "application/vnd.jupyter.widget-view+json": {
       "model_id": "a7b30aa7172e4759b849e32c3f8fcc8f",
       "version_major": 2,
       "version_minor": 0
      },
      "text/plain": [
       "Viewer(geometries=[], gradient_opacity=0.22, point_sets=[], rendered_image=<itk.itkImagePython.itkImageUC3; pr…"
      ]
     },
     "metadata": {},
     "output_type": "display_data"
    }
   ],
   "source": [
    "g_ = (255*g/np.max(g)).astype(np.uint8)\n",
    "view(g_)"
   ]
  },
  {
   "cell_type": "code",
   "execution_count": 35,
   "id": "95e1aa20",
   "metadata": {},
   "outputs": [
    {
     "data": {
      "text/plain": [
       "array([-3. , -2.4, -1.8, -1.2, -0.6,  0. ,  0.6,  1.2,  1.8,  2.4,  3. ])"
      ]
     },
     "execution_count": 35,
     "metadata": {},
     "output_type": "execute_result"
    }
   ],
   "source": [
    "get_gauss_coords(1, 3, 10)"
   ]
  }
 ],
 "metadata": {
  "kernelspec": {
   "display_name": "Python 3 (ipykernel)",
   "language": "python",
   "name": "python3"
  },
  "language_info": {
   "codemirror_mode": {
    "name": "ipython",
    "version": 3
   },
   "file_extension": ".py",
   "mimetype": "text/x-python",
   "name": "python",
   "nbconvert_exporter": "python",
   "pygments_lexer": "ipython3",
   "version": "3.8.15"
  }
 },
 "nbformat": 4,
 "nbformat_minor": 5
}
