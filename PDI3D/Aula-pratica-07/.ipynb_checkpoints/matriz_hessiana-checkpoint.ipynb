{
 "cells": [
  {
   "cell_type": "markdown",
   "id": "d29d8a5e",
   "metadata": {},
   "source": [
    "# Filtro Frangi\n",
    "\n",
    "É uma forma de combinar os autovalores da matriz hessiana para detecção de estruturas tubulares\n",
    "\n",
    "* Definimos então $|\\lambda1| \\le |\\lambda2| \\le |\\lambda3|$\n",
    "\n",
    "#### As estruturas tubulares podem ser descritas como 2D:\n",
    "\n",
    "* Rb = $\\frac {\\lambda1}{\\lambda2}$ ≃ 0, quando a estrutura é tubular\n",
    "\n",
    "* S = $\\sqrt{\\lambda1² + \\lambda2²}$ (quão importante é aquele objeto, se é ruido ou uma trutura tubular) ≃ 0, a região é uniforme ou ruidosa.\n",
    "\n",
    "* V(x, y) = (vai dizer o quão escuro ou quão claro é o objeto)\n",
    "\n",
    "    * 0, se $\\lambda2 \\ge 0$\n",
    "    * $e^{-\\frac{Rb²}{2\\beta²}}$ * (1 - $e^{\\frac{-S²}{2c²}}) $\n",
    "    \n",
    "    Onde $\\beta$ e C são parametros, tipicamente, $\\beta = 0.5$ e c = 20\n",
    "    \n",
    "#### Para estruturas 3D:\n",
    "\n",
    "* Rb = $\\frac{\\lambda1}{\\sqrt{\\lambda2 * \\lambda3}}$\n",
    "\n",
    "* Ra = $\\frac{\\lambda2}{\\lambda3}$\n",
    "\n",
    "* S = $\\sqrt{\\lambda1 + \\lambda2 + \\lambda3}$\n",
    "\n",
    "* V(x, y, z) = \n",
    "    \n",
    "    * 0, se $\\lambda3 \\ge 0$\n",
    "    * $e^{-\\frac{Rb²}{2*\\beta²}} * (1 - e^{-\\frac{Ra²}{2*\\alpha²}}) * (1 - e^{-\\frac{S²}{2c²}})$"
   ]
  },
  {
   "cell_type": "code",
   "execution_count": 1,
   "id": "4ad24eb3",
   "metadata": {},
   "outputs": [],
   "source": [
    "import numpy as np\n",
    "import matplotlib.pyplot as plt"
   ]
  },
  {
   "cell_type": "markdown",
   "id": "479c2eaa",
   "metadata": {},
   "source": [
    "# Suavização\n",
    "\n",
    "A suavisação tende a borrar as boras dos objetos, assim precisamos definir algumas tecnicas para evitar tal acontecimento, tais elas são:\n",
    "\n",
    "* Difusão anisotrópica (borrar uma imagem dando enfase a borrar um sentido com peso maior e sobre outro sentido com peso menos)\n",
    "\n",
    "* Non Local Means\n",
    "\n",
    "* Filtro bilateral\n",
    "    * Pixeis da imagem são suavizados considerando:\n",
    "        * A distancia entre os pixeis\n",
    "        * A diferença de intensidade entre os pixeis"
   ]
  },
  {
   "cell_type": "code",
   "execution_count": null,
   "id": "78489360",
   "metadata": {},
   "outputs": [],
   "source": []
  }
 ],
 "metadata": {
  "kernelspec": {
   "display_name": "Python 3 (ipykernel)",
   "language": "python",
   "name": "python3"
  },
  "language_info": {
   "codemirror_mode": {
    "name": "ipython",
    "version": 3
   },
   "file_extension": ".py",
   "mimetype": "text/x-python",
   "name": "python",
   "nbconvert_exporter": "python",
   "pygments_lexer": "ipython3",
   "version": "3.8.15"
  }
 },
 "nbformat": 4,
 "nbformat_minor": 5
}
