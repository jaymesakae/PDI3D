{
 "cells": [
  {
   "cell_type": "code",
   "execution_count": 1,
   "id": "592d3cd3",
   "metadata": {},
   "outputs": [],
   "source": [
    "import matplotlib.pyplot as plt\n",
    "import numpy as np\n",
    "import itk"
   ]
  },
  {
   "cell_type": "markdown",
   "id": "86c4e86d",
   "metadata": {},
   "source": [
    "# Visualização de imagens 3D"
   ]
  },
  {
   "cell_type": "markdown",
   "id": "2c6d4d72",
   "metadata": {},
   "source": [
    "## Imagem 3D\n",
    "\n",
    "Uma imagem 3D pode ser chamada de imagem volumetrica ou volume ou propriamente imagem\n",
    "\n",
    "### Visualização de superficies\n",
    "\n",
    "Uma meneira de visualizar apenas as superficies ou partes exteriores do material ou imagem que estamos interessados\n",
    "\n",
    "Os objetos são representados por superficies, sendo elas, geralmente, descritas por triangulos ou poligonos\n",
    "\n",
    "- A visualização de superficies é uma das principais areas da computação grafica, pois em geral, esta interessada em forma ou cena realista dos objetos\n",
    "\n",
    "Iremos na disciplina focar na visualização de volumes ou visualização volumétrica, sendo os objetos representados por arrays (ou vetores) 3D\n",
    "\n",
    "- A utilização desta tal visualização é utilizada para visualização, tanto do interior quanto da superficie do objeto"
   ]
  },
  {
   "cell_type": "markdown",
   "id": "4cfbf53e",
   "metadata": {},
   "source": [
    "### Técnica de visualização:\n",
    "\n",
    "- Ray casting (ou ray tracing volumetrico)\n",
    "consiste em feixos da camera ou dos proprios feixos de lux que colidem com o objeto, podemos saber para onde ele vai refletir, assim, podemos fazer a simulação do sistema fisico (como a luz natural reflete sobre seu objeto). A ideia do ray casting eh uma versao mais simplificada, assim, representando o objeto 3D em 2D\n",
    "\n",
    "Os voxeis (ou os pixeis) percorridos por um dado feixe de luz são combinados para gerar o valor do voxel (ou pixel)\n",
    "\n",
    "- A combinação mais comum de ser usada é a composição, que as vezes pode ser chamado de (alpha blending)\n",
    "As combinações pode ser feitas com o maximo, minimo ou propriamente a média\n",
    "\n",
    "É impotantissimo em design grafico, para conseguir uma melhor visualização entre objetos"
   ]
  },
  {
   "cell_type": "markdown",
   "id": "3edb55d9",
   "metadata": {},
   "source": [
    "Agora digamos que vc tem dois objetos sobrepostos, a Combinação de transparencia nos demonstra a transparencia em uma unica camada, assim, cada uma das imagens PNG, sempre tem um canal de transparencia, que seria o indicie 3 ou 4\n",
    "\n",
    "- Alpha bending:\n",
    "Digamos que temos 2 valores de pixeis v1 e v2 por exemplo,  normalmente, essa tecnica  é ultilizada pela combinação dos algoritmos"
   ]
  },
  {
   "cell_type": "markdown",
   "id": "ce841100",
   "metadata": {},
   "source": [
    "O Calculo dessa combinação das intensidades:\n",
    "\n",
    "vf = alfta v1 + (1 - alfa) v2"
   ]
  },
  {
   "cell_type": "markdown",
   "id": "23590132",
   "metadata": {},
   "source": [
    "A composição dos pixeis usando o ray casting\n",
    "\n",
    "- Valores v1, v2, ... vn\n",
    "\n",
    "Alfa se torna uma uma função para o calculo da transparencia dos voxeis e Vn a intensidade de cada voxel\n",
    "\n",
    "sendo alfa = transparencia dos voxeis e os \n",
    "\n",
    "vn a intensidade\n",
    "\n",
    "vf = alfa*(v1) * v1 +(1-alfa*(v1)) * alfa*(v2) * v2"
   ]
  },
  {
   "cell_type": "markdown",
   "id": "ee9bdb62",
   "metadata": {},
   "source": [
    "colocando em um outro cenario onde ja temos o calculo do vf e fazer em um voxel 3, por exemplo\n",
    "V12|3 = alfa(V1|2)v1|2 + (1 - alfa(V1|2)) alfa(v3) * v3"
   ]
  },
  {
   "cell_type": "markdown",
   "id": "edd7f0d7",
   "metadata": {},
   "source": [
    "### Padrão de coordenadas\n",
    "\n",
    "Dado um cubo, o sistema de coordenadas começa no ponto superior, da esquerda no fundo, assim, as linhas vao (do computador pra minha face), as colunas vao da direita pra esquerda e o plano sera de cima para baixo\n",
    "\n",
    "O padrão que usaremos será, dado um arr[plano, linha, coluna]"
   ]
  },
  {
   "cell_type": "markdown",
   "id": "960f30c3",
   "metadata": {},
   "source": [
    "## Softwares/bibliotecas para a visualização de imagens 3D\n",
    "\n",
    "* Software Fiji\n",
    "\n",
    "* Software Paraview\n",
    "\n",
    "* Biblioteca Python ITKwidgets\n",
    "\n",
    "* Biblioteca C++/python VTK (visualization toolkit)"
   ]
  },
  {
   "cell_type": "code",
   "execution_count": null,
   "id": "1a52fe72",
   "metadata": {},
   "outputs": [],
   "source": []
  }
 ],
 "metadata": {
  "kernelspec": {
   "display_name": "Python 3 (ipykernel)",
   "language": "python",
   "name": "python3"
  },
  "language_info": {
   "codemirror_mode": {
    "name": "ipython",
    "version": 3
   },
   "file_extension": ".py",
   "mimetype": "text/x-python",
   "name": "python",
   "nbconvert_exporter": "python",
   "pygments_lexer": "ipython3",
   "version": "3.8.13"
  }
 },
 "nbformat": 4,
 "nbformat_minor": 5
}
