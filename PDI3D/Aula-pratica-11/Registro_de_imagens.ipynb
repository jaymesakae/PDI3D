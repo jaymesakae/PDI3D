{
 "cells": [
  {
   "cell_type": "markdown",
   "id": "94d31b3e",
   "metadata": {},
   "source": [
    "# Registro de imagens\n",
    "\n",
    "A ideia principal dos registros de imagens pode ser definido como:\n",
    "\n",
    "* Identificar pontos de uma imagem que são equivalentes em outra imagem\n",
    "\n",
    "## Motivação\n",
    "Uma ideia é de identificar objetos que são identicos em diferentes imagens, ou seja, identificar as estruturas que são equivalentes mas tiveram uma certa deslocação\n",
    "\n",
    "Uma aplicação para tal é dado duas fotografias tirados em diferentes lugares, cosneguir mapear uma imagem com as duas imagens, ou seja, aumentar a imagem ou propriamente tirar uma foto panoramica por exemplo.\n",
    "\n",
    "Um outro exemplo é de mesclar diferentes imagens tiradas do mesmo lugar só que com a interligação da imagem.\n",
    "\n",
    "Um outro exemplo é de identificar um objeto e mapear para fazer realidade aumentada, ou seja, um objeto plano, consegue-se ter uma realidade aumentada pra mostrar, seila, um lobo 3d em cima da superficie\n",
    "\n",
    "Outro exemplo é para fazer estabilização de video, para caso tenha um video tremido por exemplo, ele estabiliza a gravação\n",
    "\n",
    "Uma outra aplicação é dado um objeto que uma pessoa tirou uma foto dele em determinada posição e outra foi tirado em outro angulo, consegue-se estimar a trasnformação da camera, ou seja, a distancia entre uma camera e outra. É importante ter tambem algumas informações da camera que foi tirada.\n",
    "\n",
    "## Pratica\n",
    "\n",
    "Para fazer diferentes tipos de processamentos de registro de imagens temos etapas para a execução:\n",
    "\n",
    "1. Critério de registro ( que tipo de dados serão mais importantes da imagem/video)\n",
    "\n",
    "* pontos salientes (são os pontos relevantes da imagem, um exemplo é tipo, uma foto da lousa, os pontos salientes é os que tem mais imformação)\n",
    "    * Alta informação (ou o usuario seleciona quais são os pontos de importancia)\n",
    "    \n",
    "Dado uma imagem que contem um objeto de interesse e ele se desloca em diferente lugar na imagem, precisamos saber quais são os pontos que ele se deslocou, seja por rotação ou propriamente por trasnladação\n",
    "\n",
    "* São pontos baseados em intensidade, ou seja, comparar a intensidade dos vizinhos proximos do ponto de interesse\n",
    "    * Uma desvantagem para tal metodo é mais custoso\n",
    "\n",
    "2. Trasnformação espacial\n",
    "\n",
    "* Hipotese sobre a trasnformação sofrida pela imagem (ou seja, em hipotese temos que pode ser a trasnlação, rotação etc que a imagem sofreu em diferentes espaços da imagem)\n",
    "\n",
    "*Nas proximas aulas focaremos bastante nas trasnformações espaciais de uma image*\n",
    "\n",
    "### Alguns exemplos\n",
    "\n",
    "* Translação rigida : Rotação + Translação\n",
    "\n",
    "* Translação Afim : É um tipo de translação generalista, ou seja, que calcula a escala, a translação e a rotação\n",
    "\n",
    "* Translação deformavel: Assume-se que em diferentes regiões da imagem, terão trasnformações diferentes\n",
    "\n",
    "* trasnlação projetiva: vem de projeção, ou seja, em determinado lado vai ter mais informação do que outro\n",
    "\n",
    "3. Otimização\n",
    "\n",
    "* Otimização dos parametros da transformação (ou seja, encontrar os parametros adequados das trasnformações)\n",
    "\n",
    "4. Interpolação\n",
    "\n",
    "Normalmente se faz a interpolação das intensidades, ou seja, encontrar o valor mais adequado para a pós processamento\n",
    "\n",
    "5. Métrica de qualidade\n",
    "\n",
    "É necessario saber o quão bem você conseguiu resolver o problema que vc encontrou na imagem, assim, precisamos de metrica de qualidade para avaliar. \n",
    "\n",
    "* Diferença quadratica\n",
    "\n",
    "A métrica bem comum de se usar é das diferençãs quadraticas, tanto nos pontos salientes quanto para as intensidades.\n",
    "\n",
    "* correlação, ou seja, da correlação de pearson para comparação de imagens\n",
    "\n",
    "* Informação Mútua (é uma outra forma de avaliar, mas não estudaremos ela)"
   ]
  },
  {
   "cell_type": "markdown",
   "id": "1a3bf0e7",
   "metadata": {},
   "source": [
    "Tendo uma imagem de referencia fixa, teremos outra imagem que será a imagem transformada"
   ]
  },
  {
   "cell_type": "markdown",
   "id": "74e76d39",
   "metadata": {},
   "source": [
    "![esquema1](esquema1.png)"
   ]
  },
  {
   "cell_type": "code",
   "execution_count": 1,
   "id": "d4703af1",
   "metadata": {
    "scrolled": true
   },
   "outputs": [
    {
     "name": "stdout",
     "output_type": "stream",
     "text": [
      "{'fps': 30.0, 'width': 800.0, 'heigth': 600.0, 'codec': 'avc1'}\n",
      "27\n"
     ]
    },
    {
     "data": {
      "text/plain": [
       "-1"
      ]
     },
     "execution_count": 1,
     "metadata": {},
     "output_type": "execute_result"
    }
   ],
   "source": [
    "import cv2 as cv\n",
    "import numpy as np\n",
    "\n",
    "def get_video_info(cap):\n",
    "    info = {}\n",
    "    info['fps'] = cap.get(cv.CAP_PROP_FPS)\n",
    "    info['width'] = cap.get(cv.CAP_PROP_FRAME_WIDTH)\n",
    "    info['heigth'] = cap.get(cv.CAP_PROP_FRAME_HEIGHT)\n",
    "    codec_int = int(cap.get(cv.CAP_PROP_FOURCC))\n",
    "    codec_bin = bin(codec_int)\n",
    "    codec = ''\n",
    "    for i in range(4):\n",
    "        codec += chr(int(codec_bin[i*8 : (i+1)*8 ], 2))\n",
    "    info['codec'] = codec[::-1]\n",
    "    \n",
    "    return info\n",
    "\n",
    "def set_frame_from_seconds(cap, seconds):\n",
    "    \n",
    "    fps = cap.get(cv.CAP_PROP_FPS)\n",
    "    frame_number = int(fps*seconds)\n",
    "    cap.set(cv.CAP_PROP_POS_FRAMES, frame_number)\n",
    "    \n",
    "    \n",
    "cap = cv.VideoCapture(\"../sherbrooke_video.wm\")\n",
    "info = get_video_info(cap)\n",
    "print(info)\n",
    "set_frame_from_seconds(cap, 15)\n",
    "\n",
    "while True:\n",
    "    \n",
    "    ret, img = cap.read()\n",
    "    if ret:\n",
    "        cv.imshow('frame', img)\n",
    "        \n",
    "    k = cv.waitKey(30)\n",
    "    if k!= -1:\n",
    "        print(k)\n",
    "    if k == 27:\n",
    "        break\n",
    "        \n",
    "\n",
    "cap.release()\n",
    "cv.destroyAllWindows()\n",
    "cv.waitKey(1)"
   ]
  },
  {
   "cell_type": "markdown",
   "id": "a5282fcb",
   "metadata": {},
   "source": [
    "## Transformações geométricas\n",
    "\n",
    "* Translação\n",
    "    * dado um ponto de referencia, teremos um valoor tx e ty para verificar o quanto ele transladou, teremos um novopixel chamado de x' = x + tx e y' = y + ty, que será o ponto onde o ponto de referencia esta apos a trasnlação\n",
    "    * podemos escrever as formulas de forma matricial da seguinte forma\n",
    "    \n",
    "[x'] = [1 0 tx] * [x]\n",
    "\n",
    "[y'] = [0 1 ty] * [y] e 1 em baixo nessa ultima matrix\n",
    "\n",
    "r'-> = T * r->\n",
    "\n",
    "* Rotação em torno da origem\n",
    "    * para fazer a rotação precisamos sempre de um ponto de referencia, mas veremos aqui como fazer em relação a origem, mas com isso, conseguimos fazer outra rotação com tranlação e teremos o objeto rotacionado\n",
    "    * "
   ]
  },
  {
   "cell_type": "markdown",
   "id": "ae2f4d25",
   "metadata": {},
   "source": [
    "![graficorotacao](grafico_angulacao.png)"
   ]
  },
  {
   "cell_type": "markdown",
   "id": "fd1f379f",
   "metadata": {},
   "source": [
    "* Euclidiana (ou rigina, uma tranlação mais uma rotação)\n",
    "* Similiaridade\n",
    "* Afim\n",
    "* Projetiva"
   ]
  },
  {
   "cell_type": "markdown",
   "id": "fb3d3024",
   "metadata": {},
   "source": [
    "# Revisão\n",
    "\n",
    "Vimos até então sobre as trasnformações geométricas, vimos a ideia de translação\n",
    "\n",
    "[x'] = [1 0 tx] * [x]\n",
    "\n",
    "[y'] = [0 1 ty] * [y] com 1 em baixo (sendo esse x, y 1 uma matrix 3x1)\n",
    "\n",
    "r-> = T r->\n",
    "\n",
    "Rotação em relação a origem:\n",
    "\n",
    "[x'] = [cos $\\theta - sen \\theta$] * [x]\n",
    "\n",
    "[y'] = [$sen\\theta cos\\theta$] * [y com 1 em baixo]\n",
    "\n",
    "Rotção em relação a um ponto c = (cx, cy)\n",
    "\n",
    "[x'] = [cos $\\theta - sen \\theta$] * [x - cx] + [cx]\n",
    "\n",
    "[y'] = [$sen\\theta cos\\theta$] * [y - cy com 1 em baixo] + [cy]\n",
    "\n",
    "Outra forma de fazer isso:\n",
    "\n",
    "T1 = [1 0 -cx]\n",
    "\n",
    "T1 = [0 1 -cy]\n",
    "\n",
    ",\n",
    "\n",
    "T2 = [1 0 cx]\n",
    "\n",
    "T2 = [0 1 cy]\n",
    "\n",
    "Assim aplicamos:\n",
    "\n",
    "[x'] = T2 * Tr * T1 * [x']\n",
    "\n",
    "[y'] = T2 * Tr * T1 * [y' com 1 em baixo]\n",
    "\n",
    "sendp Tr a matrix de rotação ja vista acima"
   ]
  },
  {
   "cell_type": "markdown",
   "id": "cbd2fbf3",
   "metadata": {},
   "source": [
    "Vemos tambem na aula passada a *transformação rigida* , que consiste em uma translação somado com a rotação, dada pela formula\n",
    "\n",
    "[x'] = [cos$\\theta - sen \\theta tx$] * [x]\n",
    "\n",
    "[y'] = [sen$\\theta cos\\theta ty$] * [y com 1 em baixo]\n",
    "\n",
    "Trasnformação de escala\n",
    "\n",
    "A trasnformação de escala faz com que o objeto fique maior, mas afasta ele da origem, se s eh menor que 1 ele diminui o objeto e fica mais proximo da origem\n",
    "\n",
    "[x'] = [s 0 0] * [x]\n",
    "\n",
    "[y'] = [0 s 0] * [y com 1 em baixo]\n",
    "\n",
    "x' = sx\n",
    "\n",
    "y' = sy\n",
    "\n",
    "sendo o s o valor da trasnformação\n",
    "\n",
    "#### Trasnformação similaridade\n",
    "\n",
    "ela eh composta pela trasnlação + rotação + escala, ou seja\n",
    "\n",
    "[x'] = [s * cos$\\theta$ -s * sen$\\theta$ tx] * [x]\n",
    "\n",
    "[y'] = [s * cos$\\theta$ s * cos$\\theta$ ty] * [y com 1 em baixo]\n",
    "\n",
    "Essa operação pode ser entendida como\n",
    "\n",
    "matrix de x' e y' = Tr * Ts * Tt"
   ]
  },
  {
   "cell_type": "markdown",
   "id": "0c595441",
   "metadata": {},
   "source": [
    "Existe tambem a trasnformação afim, escrevemos ela como\n",
    "\n",
    "[x'] = [a0 a1 a2] * [x']\n",
    "\n",
    "[y'] = [a3 a4 a5] * [y' com 1 em baixo]\n",
    "\n",
    "ela permite nós mudarmos os parametros a de acordo com aquilo que desejamos, mas a trasnformação a fim faz uma mistura da rotação com translação das extremidades, dee uma lida melhor dps disso ai"
   ]
  },
  {
   "cell_type": "markdown",
   "id": "89b2fd4a",
   "metadata": {},
   "source": [
    "### Explicando melhor o 1 da multiplicação matricial em cima\n",
    "\n",
    "Chamamos a matrix q contem esse 1 se chama de coordenada homogenia, um conceito da visão computacional e computação grafica. A ideia dela é que as trasnformações geometricas costumamos escrever as multiplicação matricial de matrixes 3x3 (isso é, normalmente, nos exeplos anteriores colocamos diferente, mas funciona da mesma forma)\n",
    "\n",
    "Por exemplo, a trasnformação afim é escrita como:\n",
    "\n",
    "[x'] = [a0 a1 a2] * [x]\n",
    "\n",
    "[y'] = [a3 a4 a5] * [y]\n",
    "\n",
    "[1] = [0 0 1] * [1]\n",
    "\n",
    "Imagine uma camera pinhole, A ideia do 1 eh que ele tem a distancia focal da camera, ou seja, a distancia do ponto da camera com o sensor que tirou a foto de verdade, isso eh chamado de distancia virtual (pode estar errado)\n",
    "\n",
    "Dado um objeto na posição x, y, z do espaço e um segundo objeto na frente dele, com a ponsição x2, y2, z2, a ideia da coordenada homogenia é que ambos objetos, se estiverem na mesma coordenada do feixe de luz, elas terão a mesma coordenada na imagem, assim, ela sera um unico pixel pra dois objetos\n",
    "\n",
    "\n",
    "### Transformação projetiva\n",
    "\n",
    "A formula dela será:\n",
    "\n",
    "[x'] = [a0 a1 a2] * [x]\n",
    "\n",
    "[y'] = [a3 a4 a5] * [y]\n",
    "\n",
    "[z'] = [a6 a7 1] * [1]\n",
    "\n",
    "com isso, ela muda a perspectiva da imagem, assim como no slide da aula"
   ]
  },
  {
   "cell_type": "markdown",
   "id": "e448603d",
   "metadata": {},
   "source": [
    "Existe uma tabela de relações na pasta ai, tabela.png"
   ]
  },
  {
   "cell_type": "code",
   "execution_count": 2,
   "id": "897a1448",
   "metadata": {},
   "outputs": [],
   "source": [
    "import numpy as np\n",
    "import matplotlib.pyplot as plt\n",
    "\n",
    "def add_ones(points):\n",
    "    \n",
    "    num_points = points.shape[1]\n",
    "    \n",
    "    # o h vem do homogenia\n",
    "    ones = np.ones((1, num_points))\n",
    "    points_h = np.concatenate((points, ones), axis = 0)\n",
    "    \n",
    "    return points_h\n",
    "\n",
    "def transform(points, T):\n",
    "    \n",
    "    return T@points # Produto matricial. equivalente a np.dot(T, points)\n",
    "\n",
    "\n",
    "points = np.array([[0.,5.,5.,0],\n",
    "                   [0.,0., 3., 3.]])"
   ]
  },
  {
   "cell_type": "code",
   "execution_count": 3,
   "id": "b63a6220",
   "metadata": {},
   "outputs": [
    {
     "data": {
      "text/plain": [
       "[<matplotlib.lines.Line2D at 0x7f295fbe08b0>]"
      ]
     },
     "execution_count": 3,
     "metadata": {},
     "output_type": "execute_result"
    },
    {
     "data": {
      "image/png": "[encoded data removed]",
      "text/plain": [
       "<Figure size 640x480 with 1 Axes>"
      ]
     },
     "metadata": {},
     "output_type": "display_data"
    }
   ],
   "source": [
    "def translate_matrix(tx, ty):\n",
    "    \n",
    "    T = np.array([[1., 0., tx],\n",
    "                  [0., 1., ty]])\n",
    "    \n",
    "    return T\n",
    "\n",
    "tx = 5.\n",
    "ty = 10.\n",
    "\n",
    "T = translate_matrix(tx, ty)\n",
    "points_h = add_ones(points)\n",
    "points_t = transform(points_h, T)\n",
    "\n",
    "\n",
    "plt.plot(points[0], points[1], 'o')\n",
    "plt.plot(points_t[0], points_t[1], 'o')"
   ]
  },
  {
   "cell_type": "code",
   "execution_count": null,
   "id": "ce6d84e6",
   "metadata": {},
   "outputs": [],
   "source": []
  }
 ],
 "metadata": {
  "kernelspec": {
   "display_name": "Python 3 (ipykernel)",
   "language": "python",
   "name": "python3"
  },
  "language_info": {
   "codemirror_mode": {
    "name": "ipython",
    "version": 3
   },
   "file_extension": ".py",
   "mimetype": "text/x-python",
   "name": "python",
   "nbconvert_exporter": "python",
   "pygments_lexer": "ipython3",
   "version": "3.8.15"
  }
 },
 "nbformat": 4,
 "nbformat_minor": 5
}
