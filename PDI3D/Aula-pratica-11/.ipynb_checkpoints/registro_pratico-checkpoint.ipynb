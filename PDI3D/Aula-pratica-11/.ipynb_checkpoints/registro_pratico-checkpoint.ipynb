{
 "cells": [
  {
   "cell_type": "markdown",
   "id": "ce347011",
   "metadata": {},
   "source": [
    "Agora começaremos a ver a parte de registro de imagem de forma mais pratica\n",
    "\n",
    "Considerando uma imagem de referencia F, uma imagem a ser registrada M, uma coordenada na imagem F: r-> e uma coordenada na imagem a ser registrada M:r'->, uma trasnformação: r'-> = Tr-> = T(r-> | p->)\n",
    "\n",
    "Precisamos encontrar um p-> que minimiza uma metrica de qualidade S(p->|F, M ,T).\n",
    "\n",
    "Para verificar se estamos fazendo as operações corretas, precisamos de algumas metricas de qualidade. Usaremos aqui **Erro Quadrático Médio**, assim definimos:\n",
    "\n",
    "S(p->|F, M, T) = $\\frac{1}{N} * \\sum_{i=1}^{N} [F(ri-> - M'(r->'))]²$\n",
    "\n",
    "Uma forma de otimizarmos essa função é usar a decida de gradiente para encontrar o menor erro quadratico da função. Assim encontramos o melhor valor para usar na função\n",
    "\n",
    "Quando usar gradiente descendente para encontrar o minimo de S.\n",
    "\n",
    "Definimos entao\n",
    "\n",
    "$(\\Delta-> S) = (\\frac{\\delta S}{\\delta tx} , \\frac{\\delta S}{\\delta ty}, \\frac{\\delta S}{\\delta \\theta}) = \\frac {dS}{dp->}$\n",
    "\n",
    "Atualizamos p-> iterativamente:\n",
    "\n",
    "$p->^{i+1}$ = $p^{i}-> - e * \\frac{dS}{dp->}$\n",
    "\n",
    "onde e é a taxa de aprendizado\n",
    "\n",
    "S(p->|F, M, T) = $\\frac {1}{N} * \\sum_{i=1}^{N} [F(r^{i}->) - M(T(r^{i}->|p->))]^{2}$\n",
    "\n",
    "**Deriva isso ai em cima usando a regra da cadeia da loucura**\n",
    "\n",
    "Quando temos uma derivada de um vetor sobre um vetor se chama matriz jacobiana\n",
    "\n",
    "Para uma translação + rotação, sabemos\n",
    "\n",
    "x' = $x * cos \\theta - y sen \\theta + tx$\n",
    "\n",
    "y' = $x * sen \\theta + y cos \\theta + ty$\n",
    "\n",
    "J = \n",
    "\n",
    "[$\\frac{\\delta x'}{\\delta tx} \\frac{\\delta x'}{\\delta ty} \\frac{\\delta x'}{\\delta \\theta}$]\n",
    "\n",
    "[$\\frac{\\delta y'}{\\delta tx} \\frac{\\delta y'}{\\delta ty} \\frac{\\delta y'}{\\delta \\theta}$]\n",
    "\n",
    "$\\frac{\\delta x'}{\\delta tx} = 1, \\frac{\\delta x'}{\\delta ty} = 0, \\frac{\\delta x'}{\\delta \\theta} = -x sen \\theta - y cos \\theta$\n",
    "\n",
    "$\\frac{\\deltay'}{\\delta tx} = 0, \\frac{\\delta y'}{\\delta ty} = 1, \\frac{\\delta y'}{\\delta \\theta} = x cos\\theta - y sen\\theta$\n",
    "\n",
    "J = $frac{dr->}{dp->}$ = \n",
    "\n",
    "[1 0 -x sen $\\theta + y cos \\theta$]\n",
    "\n",
    "[0 1 x cos $\\theta -y sen \\theta$]\n",
    "\n",
    "$\\frac{ds}{dp->} = -\\frac{2}{N}$"
   ]
  },
  {
   "cell_type": "code",
   "execution_count": null,
   "id": "aec36968",
   "metadata": {},
   "outputs": [],
   "source": []
  }
 ],
 "metadata": {
  "kernelspec": {
   "display_name": "Python 3 (ipykernel)",
   "language": "python",
   "name": "python3"
  },
  "language_info": {
   "codemirror_mode": {
    "name": "ipython",
    "version": 3
   },
   "file_extension": ".py",
   "mimetype": "text/x-python",
   "name": "python",
   "nbconvert_exporter": "python",
   "pygments_lexer": "ipython3",
   "version": "3.8.15"
  }
 },
 "nbformat": 4,
 "nbformat_minor": 5
}
