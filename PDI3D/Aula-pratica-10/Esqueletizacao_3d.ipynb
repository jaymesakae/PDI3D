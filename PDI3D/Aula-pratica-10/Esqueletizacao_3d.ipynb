{
 "cells": [
  {
   "cell_type": "code",
   "execution_count": 1,
   "id": "26aece97",
   "metadata": {},
   "outputs": [],
   "source": [
    "import numpy as np\n",
    "import matplotlib.pyplot as plt\n",
    "from itkwidgets import view\n",
    "import scipy.ndimage as ndi"
   ]
  },
  {
   "cell_type": "markdown",
   "id": "ca7e1ba8",
   "metadata": {},
   "source": [
    "## Programar em C para processar imagens\n",
    "\n",
    "Para alocar uma imagem em c, é importante saber de que, uma imagem 3d por exemplo, eh representada na memoria como um vetor 1d apenas.\n",
    "\n",
    "\n",
    "Tem um codigo na pasta process3d/python que coloca um pixel branco na posicao 5/blablabla"
   ]
  },
  {
   "cell_type": "markdown",
   "id": "256a8818",
   "metadata": {},
   "source": [
    "## Esqueletização\n",
    "\n",
    "Nesta aula tambem veremos melhor como fazer esqueletização em c e importar para python, assim, usaremos uma metodologia parecida com o que esta descrito acima"
   ]
  },
  {
   "cell_type": "markdown",
   "id": "318dfdda",
   "metadata": {},
   "source": [
    "Definições de esqueletos de imagens 2D e 3D\n",
    "\n",
    "* Def geral: Representação de formas usando cadeias de pixeis de largura 1\n",
    "\n",
    "* Def matematica( ou definição topologica): União dos centros das bolas maximamente inscritas ao objeto\n",
    "    * a ideia de maximamente inscritas é de que, dado uma bola que toca em 2 pontos da borda do objeto, sendo em 2d um disco e em 3d uma esfera.\n",
    "    \n",
    "Um problema que conseguimos encontrar é:\n",
    "\n",
    "* em 2D, a definição é simples e intuitiva\n",
    "* porém, em 3D, essa denição de bolas maximamente inscritas leva a superficies, e não a cadeias de objetos de tamanho de lagura igual a 1.\n",
    "    * tais superficies são chamadas de superficies esqueleto\n",
    "* quando o esqueleto 3d tem largura 1, ou seja, quando a largura da superficie esqueleto é 1 tambem,ele é chamado de curva esqueleto, assim como no exemplo do esqueleto do paralelepipedo.\n",
    "\n",
    "propriedades de esqueleto:\n",
    "* A largura dos pixeis sempre tem que ser igual a 1;\n",
    "* Preservar a topologia do objeto analisado (topologia = ou ramificações e buracos da imagem)\n",
    "* O esqueleto seja centrado no objeto (ou seja, no centro de cada pixel analizado)\n",
    "* Objetos similares terão esqueletos similares\n",
    "\n",
    "O metodo mais comum utilizado é a metelogia de afinamento (thinning). O esqueleto será mostrado por afinamento, cotnanto que a imagem seja aplicado uma erosao criteriosa até que tenha um unico pixel de largura.\n",
    "\n",
    "* a erosão do objeto seguindo alguns criterios rigorosos\n",
    "* Pixeis de borda que podem ser removidos são chamados de pontos simples\n",
    "\n",
    "As condições de removção é\n",
    "* A) 2<= n(p1) <= 6\n",
    "* B) T(p1) = 1 (transições)\n",
    "* C) P2P4P6 = 0\n",
    "* D) P4P6P8 = 0\n",
    "\n",
    "Na segunda iteração, as condições são:\n",
    "* A) mesmo que no passo 1\n",
    "* B) mesmo que no passo 1\n",
    "* C) p2p4p8 = 0\n",
    "* D) p2p6p8 = 0\n",
    "\n",
    "Algumas definições adicionais:\n",
    "* em 2D, Temos vizinhança 4 e vizinhança 8.\n",
    "* em 3D, temos a vizinhança 6 e a vizinhança 18 e a vizinhança 26. A vizinhança 18 não é tão utilizada.\n",
    "* um pixel é considerado borda se um pixel da vizinhança 6 for fundo\n",
    "* um pixel é borda U, se o pixel acima dele for borda.\n",
    "* O mesmo para as direções E, W, D, S, N\n",
    "\n",
    "Em geral, são definidas mascaras para definir se um pixel pode ser mantido ou removido.\n",
    "\n",
    "O método que veremos é o conjunto de 124 mascaras de Palagyi and Kuba\n",
    "\n"
   ]
  },
  {
   "cell_type": "markdown",
   "id": "6108902d",
   "metadata": {},
   "source": [
    "Usando as mascaras, no pixel central, caso a mascara seja aceita por um determinado pixel da imagem, o voxel será excluido.\n",
    "\n",
    "As mascaras são usadas em todas as direções, ou seja, as mascaras serão rotacionadas para cada um dos lados, sendo eles E (east) W (weast) D(down) U(up), S(south), N(north)"
   ]
  },
  {
   "cell_type": "code",
   "execution_count": null,
   "id": "89f0500a",
   "metadata": {},
   "outputs": [],
   "source": []
  }
 ],
 "metadata": {
  "kernelspec": {
   "display_name": "Python 3 (ipykernel)",
   "language": "python",
   "name": "python3"
  },
  "language_info": {
   "codemirror_mode": {
    "name": "ipython",
    "version": 3
   },
   "file_extension": ".py",
   "mimetype": "text/x-python",
   "name": "python",
   "nbconvert_exporter": "python",
   "pygments_lexer": "ipython3",
   "version": "3.8.15"
  }
 },
 "nbformat": 4,
 "nbformat_minor": 5
}
